{
 "cells": [
  {
   "cell_type": "markdown",
   "metadata": {},
   "source": [
    "# Put the ImageNet data in a \"data\" folder with subfolders \"train\" and \"val\".\n",
    "### https://www.andrew.cmu.edu/user/kaihu/Revisiting_Exploding_Gradient.pdf"
   ]
  }
 ],
 "metadata": {
  "kernelspec": {
   "display_name": "Python 3",
   "language": "python",
   "name": "python3"
  },
  "language_info": {
   "name": "python",
   "version": "3.11.4"
  }
 },
 "nbformat": 4,
 "nbformat_minor": 2
}
