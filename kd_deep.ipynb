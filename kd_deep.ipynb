{
 "cells": [
  {
   "cell_type": "code",
   "execution_count": 112,
   "metadata": {},
   "outputs": [],
   "source": [
    "import numpy as np\n",
    "import torch\n",
    "import torch.nn as nn\n",
    "from torch.optim import Optimizer\n",
    "import math\n",
    "from torchvision import datasets, transforms\n",
    "from torch.utils.data import DataLoader\n",
    "import ssl\n",
    "ssl._create_default_https_context = ssl._create_unverified_context\n",
    "from sklearn.metrics import precision_score, recall_score, f1_score\n",
    "\n",
    "class KineticDescent(Optimizer):\n",
    "    def __init__(self, params, lr, gamma, c_init):\n",
    "        defaults = dict(lr=lr, gamma=gamma)\n",
    "        super(KineticDescent, self).__init__(params, defaults)\n",
    "        self.p = {}\n",
    "        self.c_init = c_init\n",
    "        self.momentum_magnitude_history = []\n",
    "        self.t = [0.]\n",
    "\n",
    "    def initialize_momentum(self, param):\n",
    "        p = torch.empty_like(param).uniform_(-1, 1)\n",
    "        p = p / torch.norm(p, p=2)\n",
    "        p = p * math.sqrt(2 * self.c_init)\n",
    "        return p\n",
    "\n",
    "    def solve_p(self, p, F, h, gamma):\n",
    "        eps_reg = 1e-5  # Regularization term\n",
    "        def compute_g(p, F):\n",
    "            pdotF = torch.dot(p.flatten(), F.flatten())\n",
    "            pdotp = torch.dot(p.flatten(), p.flatten()) + eps_reg\n",
    "            return F - (pdotF / pdotp) * p - 0.5 * gamma * p\n",
    "        g1 = compute_g(p, F)\n",
    "        g2 = compute_g(p + 0.5 * h * g1, F)\n",
    "        g3 = compute_g(p + 0.5 * h * g2, F)\n",
    "        g4 = compute_g(p + h * g3, F)\n",
    "        p1 = p + (h / 6) * (g1 + 2 * g2 + 2 * g3 + g4)\n",
    "        return p1\n",
    "\n",
    "    def kd_step(self, param, p, h, gamma):\n",
    "        param.data.add_(0.5 * h * p)\n",
    "        F = -param.grad\n",
    "        p = self.solve_p(p, F, h, gamma)\n",
    "        param.data.add_(0.5 * h * p)\n",
    "        return p\n",
    "\n",
    "    def step(self, closure=None):\n",
    "        loss = None\n",
    "        if closure is not None:\n",
    "            loss = closure()\n",
    "        for group in self.param_groups:\n",
    "            h = group['lr']\n",
    "            gamma = group['gamma']\n",
    "            momentum_magnitude = 0\n",
    "            for param in group['params']:\n",
    "                if param.grad is None:\n",
    "                    continue\n",
    "                if param not in self.p:\n",
    "                    self.p[param] = self.initialize_momentum(param)  # Initialize p\n",
    "                momentum_magnitude += torch.dot(self.p[param].flatten(), self.p[param].flatten())\n",
    "                self.p[param] = self.kd_step(param, self.p[param], h, gamma)\n",
    "        self.momentum_magnitude_history.append(momentum_magnitude)\n",
    "        self.t.append(self.t[-1] + h)\n",
    "        return loss"
   ]
  },
  {
   "cell_type": "code",
   "execution_count": 72,
   "metadata": {},
   "outputs": [],
   "source": [
    "def train(model, optimizer, criterion, scheduler, train_loader, num_epochs):\n",
    "    train_loss_values = []\n",
    "    for epoch in range(num_epochs):\n",
    "        model.train()  # Set model to training mode\n",
    "        epoch_loss = 0\n",
    "        for batch_inputs, batch_targets in train_loader:\n",
    "            batch_inputs = batch_inputs.view(batch_inputs.size(0), -1)\n",
    "            outputs = model(batch_inputs)\n",
    "            loss = criterion(outputs, batch_targets)\n",
    "            optimizer.zero_grad()\n",
    "            loss.backward()\n",
    "            optimizer.step()\n",
    "            \n",
    "            epoch_loss += loss.item()\n",
    "        scheduler.step()\n",
    "        train_loss_values.append(epoch_loss / len(train_loader))\n",
    "    return model, train_loss_values\n",
    "\n",
    "def predict(model, loader):\n",
    "    targets, predictions = [], []\n",
    "    for batch_inputs, batch_targets in loader:\n",
    "        batch_inputs = batch_inputs.view(batch_inputs.size(0), -1)\n",
    "        outputs = model(batch_inputs)\n",
    "        _, predicted = torch.max(outputs, 1)\n",
    "        targets.extend(batch_targets.cpu().numpy())\n",
    "        predictions.extend(predicted.cpu().numpy())\n",
    "    return targets, predictions\n",
    "\n",
    "def evaluate(model, test_loader, train_loader):\n",
    "    model.eval()\n",
    "    with torch.no_grad():\n",
    "        test_targets, test_predictions = predict(model, test_loader)\n",
    "        train_targets, train_predictions = predict(model, train_loader)\n",
    "    train_accuracy = 100. * (sum(1 for x, y in zip(train_predictions, train_targets) if x == y) / len(train_targets))\n",
    "    test_accuracy = 100. * (sum(1 for x, y in zip(test_predictions, test_targets) if x == y) / len(test_targets))\n",
    "    return train_accuracy, test_accuracy"
   ]
  },
  {
   "cell_type": "code",
   "execution_count": 114,
   "metadata": {},
   "outputs": [],
   "source": [
    "model = nn.Sequential(\n",
    "        nn.Linear(28 * 28, 256),\n",
    "        nn.ReLU(),\n",
    "        nn.Linear(256, 10)\n",
    "    )\n",
    "params = {\n",
    "    'num_epochs': 100,\n",
    "    'lr': 0.1,\n",
    "    'gamma': 0.1,\n",
    "    'c_init': 10.,\n",
    "    's': 20,\n",
    "    'g': 0.5\n",
    "}\n",
    "\n",
    "num_epochs = params['num_epochs']\n",
    "lr = params['lr']\n",
    "gamma = params['gamma']\n",
    "c_init = params['c_init']\n",
    "s = params['s']\n",
    "g = params['g']\n",
    "\n",
    "criterion = nn.CrossEntropyLoss()\n",
    "optimizer = KineticDescent(model.parameters(), lr=lr, gamma=gamma, c_init=c_init)\n",
    "#optimizer = optim.SGD(model.parameters(), lr=0.1)\n",
    "scheduler = optim.lr_scheduler.StepLR(optimizer, step_size=s, gamma=g)\n",
    "batch_size = 64\n",
    "transform = transforms.Compose([transforms.ToTensor(), transforms.Normalize((0.1307,), (0.3081,))])\n",
    "train_dataset = datasets.MNIST(root='./data', train=True, download=True, transform=transform)\n",
    "test_dataset = datasets.MNIST(root='./data', train=False, download=True, transform=transform)\n",
    "train_loader = DataLoader(train_dataset, batch_size=batch_size, shuffle=True)\n",
    "test_loader = DataLoader(test_dataset, batch_size=batch_size, shuffle=False)\n",
    "\n",
    "model, train_loss_values = train(model, optimizer, criterion, scheduler, train_loader, num_epochs)\n",
    "train_accuracy, test_accuracy = evaluate(model, test_loader, train_loader)"
   ]
  },
  {
   "cell_type": "code",
   "execution_count": 115,
   "metadata": {},
   "outputs": [
    {
     "name": "stderr",
     "output_type": "stream",
     "text": [
      "No artists with labels found to put in legend.  Note that artists whose label start with an underscore are ignored when legend() is called with no argument.\n"
     ]
    },
    {
     "data": {
      "image/png": "[encoded data removed]",
      "text/plain": [
       "<Figure size 1000x600 with 1 Axes>"
      ]
     },
     "metadata": {},
     "output_type": "display_data"
    },
    {
     "name": "stdout",
     "output_type": "stream",
     "text": [
      "Train Accuracy: 99.99%, Test Accuracy: 96.91%\n"
     ]
    }
   ],
   "source": [
    "plt.figure(figsize=(10, 6))\n",
    "plt.plot(np.arange(num_epochs), train_loss_values)\n",
    "plt.xlabel('Epoch')\n",
    "plt.ylabel('Loss')\n",
    "plt.title('Optimizer Comparison on MNIST')\n",
    "plt.legend()\n",
    "plt.grid(True)\n",
    "plt.show()\n",
    "\n",
    "print(f\"Train Accuracy: {train_accuracy:.2f}%, Test Accuracy: {test_accuracy:.2f}%\")#, Precision: {precision:.2f}%, Recall: {recall:.2f}%, F1-Score: {f1:.2f}%\")"
   ]
  }
 ],
 "metadata": {
  "kernelspec": {
   "display_name": "Python 3",
   "language": "python",
   "name": "python3"
  },
  "language_info": {
   "codemirror_mode": {
    "name": "ipython",
    "version": 3
   },
   "file_extension": ".py",
   "mimetype": "text/x-python",
   "name": "python",
   "nbconvert_exporter": "python",
   "pygments_lexer": "ipython3",
   "version": "3.11.4"
  }
 },
 "nbformat": 4,
 "nbformat_minor": 2
}
